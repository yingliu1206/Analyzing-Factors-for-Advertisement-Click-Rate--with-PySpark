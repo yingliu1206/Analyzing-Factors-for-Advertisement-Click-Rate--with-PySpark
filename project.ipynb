{
 "cells": [
  {
   "cell_type": "markdown",
   "id": "aa159a04-4716-421e-aae1-9ea3e085c037",
   "metadata": {},
   "source": [
    "### Create SparkSession and read all the datasets:"
   ]
  },
  {
   "cell_type": "code",
   "execution_count": 1,
   "id": "135d2259-3c9a-4b48-acd0-b1d90a542b74",
   "metadata": {},
   "outputs": [
    {
     "data": {
      "text/html": [
       "\n",
       "            <div>\n",
       "                <p><b>SparkSession - in-memory</b></p>\n",
       "                \n",
       "        <div>\n",
       "            <p><b>SparkContext</b></p>\n",
       "\n",
       "            <p><a href=\"http://ip-172-31-83-225.ec2.internal:4040\">Spark UI</a></p>\n",
       "\n",
       "            <dl>\n",
       "              <dt>Version</dt>\n",
       "                <dd><code>v2.4.4</code></dd>\n",
       "              <dt>Master</dt>\n",
       "                <dd><code>yarn</code></dd>\n",
       "              <dt>AppName</dt>\n",
       "                <dd><code>project</code></dd>\n",
       "            </dl>\n",
       "        </div>\n",
       "        \n",
       "            </div>\n",
       "        "
      ],
      "text/plain": [
       "<pyspark.sql.session.SparkSession at 0x7f5be0907490>"
      ]
     },
     "execution_count": 1,
     "metadata": {},
     "output_type": "execute_result"
    }
   ],
   "source": [
    "# Create SparkSession\n",
    "import findspark\n",
    "findspark.init()\n",
    "from pyspark.sql import SparkSession\n",
    "spark = SparkSession.builder.appName(\"project\").getOrCreate()\n",
    "spark"
   ]
  },
  {
   "cell_type": "code",
   "execution_count": 2,
   "id": "bf19f277-80bd-41a0-9d6c-502fcc265f2f",
   "metadata": {},
   "outputs": [
    {
     "name": "stdout",
     "output_type": "stream",
     "text": [
      "+----+----------+----------+--------------------+--------+--------------------+---------+\n",
      "|AdID|LocationID|CategoryID|              Params|   Price|               Title|IsContext|\n",
      "+----+----------+----------+--------------------+--------+--------------------+---------+\n",
      "|   1|       343|        43|{1283:'С пробегом...|160000.0| Toyota Estima, 1993|        0|\n",
      "|   2|       992|        34|{817:'Кузов', 5:'...|   750.0|Передние брызгови...|        0|\n",
      "|   3|      3771|        53|{181:'Промышленное'}| 18000.0|            Дровокол|        0|\n",
      "|   4|      4294|        57|{130:'Приборы и а...|  1500.0|Продам ходули скл...|        0|\n",
      "|   5|      1344|        34|{817:'Автосвет', ...|   800.0|Поворотник R - Ca...|        0|\n",
      "+----+----------+----------+--------------------+--------+--------------------+---------+\n",
      "only showing top 5 rows\n",
      "\n"
     ]
    }
   ],
   "source": [
    "# read the ad_info data\n",
    "data_ad = spark.read.format('csv').option('header', 'true').option('inferSchema', 'true').option(\"delimiter\", \"\\t\").load('s3://bigdatateaching/project-data/ad_info.txt')\n",
    "data_ad.show(5)"
   ]
  },
  {
   "cell_type": "code",
   "execution_count": 3,
   "id": "5434086e-e838-4ccf-aa67-feebe7e1474f",
   "metadata": {},
   "outputs": [
    {
     "name": "stdout",
     "output_type": "stream",
     "text": [
      "+----------+-----+----------------+-------------+\n",
      "|CategoryID|Level|ParentCategoryID|SubcategoryID|\n",
      "+----------+-----+----------------+-------------+\n",
      "|         0|    1|              10|           45|\n",
      "|         1|    2|               9|           45|\n",
      "|         2|    3|              12|            5|\n",
      "|         3|    3|               9|           25|\n",
      "|         4|    3|               2|           39|\n",
      "+----------+-----+----------------+-------------+\n",
      "only showing top 5 rows\n",
      "\n"
     ]
    }
   ],
   "source": [
    "# read the category data\n",
    "data_category = spark.read.format('csv').option('header', 'true').option('inferSchema', 'true').option(\"delimiter\", \"\\t\").load('s3://bigdatateaching/project-data/category.txt')\n",
    "data_category.show(5)"
   ]
  },
  {
   "cell_type": "code",
   "execution_count": 4,
   "id": "74526807-02e7-4315-a5d7-e97dcf0a7c54",
   "metadata": {},
   "outputs": [
    {
     "name": "stdout",
     "output_type": "stream",
     "text": [
      "+------+-------+--------+-------------------+------+\n",
      "|UserID|   IPID|    AdID|           ViewDate|Source|\n",
      "+------+-------+--------+-------------------+------+\n",
      "| 59703|1259356|  469877|2015-04-25 00:00:00| visit|\n",
      "|154389|1846749|27252551|2015-04-25 00:00:00| visit|\n",
      "|218628|2108380|31685325|2015-04-25 00:00:00| visit|\n",
      "|231535| 837110|18827716|2015-04-25 00:00:00| visit|\n",
      "|282306|1654210|29363673|2015-04-25 00:00:00| visit|\n",
      "+------+-------+--------+-------------------+------+\n",
      "only showing top 5 rows\n",
      "\n"
     ]
    }
   ],
   "source": [
    "# read the combined_stream data\n",
    "data_combined_stream = spark.read.format('csv').option('header', 'true').option('inferSchema', 'true').option(\"delimiter\", \"\\t\").load('s3://bigdatateaching/project-data/combined_stream.txt')\n",
    "data_combined_stream.show(5)"
   ]
  },
  {
   "cell_type": "code",
   "execution_count": 5,
   "id": "29d3526e-b3b6-4851-9c81-70ea401852f5",
   "metadata": {},
   "outputs": [
    {
     "name": "stdout",
     "output_type": "stream",
     "text": [
      "+----------+-----+--------+------+\n",
      "|LocationID|Level|RegionID|CityID|\n",
      "+----------+-----+--------+------+\n",
      "|         7|    3|      83|  2386|\n",
      "|        23|    3|      28|  3224|\n",
      "|        26|    3|      41|  1316|\n",
      "|        30|    3|      63|  2565|\n",
      "|        32|    3|      28|  2819|\n",
      "+----------+-----+--------+------+\n",
      "only showing top 5 rows\n",
      "\n"
     ]
    }
   ],
   "source": [
    "# read the location data\n",
    "data_location = spark.read.format('csv').option('header', 'true').option('inferSchema', 'true').option(\"delimiter\", \"\\t\").load('s3://bigdatateaching/project-data/location.txt')\n",
    "data_location.show(5)"
   ]
  },
  {
   "cell_type": "code",
   "execution_count": 31,
   "id": "73c64dbb-8786-43f9-a4f2-47a63fe3f775",
   "metadata": {},
   "outputs": [
    {
     "name": "stdout",
     "output_type": "stream",
     "text": [
      "+--------+--------+--------+----------+--------+-------+\n",
      "|SearchID|    AdID|Position|ObjectType| HistCTR|IsClick|\n",
      "+--------+--------+--------+----------+--------+-------+\n",
      "|       2|11441863|       1|         3|0.001804|      0|\n",
      "|       2|22968355|       7|         3|0.004723|      0|\n",
      "|       3|  212187|       7|         3|0.029701|      0|\n",
      "|       3|34084553|       1|         3|  0.0043|      0|\n",
      "|       3|36256251|       2|         2|    null|   null|\n",
      "+--------+--------+--------+----------+--------+-------+\n",
      "only showing top 5 rows\n",
      "\n"
     ]
    }
   ],
   "source": [
    "# read the search_click data\n",
    "data_search_click = spark.read.format('csv').option('header', 'true').option('inferSchema', 'true').option(\"delimiter\", \"\\t\").load('s3://bigdatateaching/project-data/search_click.txt')\n",
    "data_search_click.show(5)"
   ]
  },
  {
   "cell_type": "code",
   "execution_count": 7,
   "id": "6a228a43-8408-47d4-bd2a-a1fb275ea0f6",
   "metadata": {},
   "outputs": [
    {
     "name": "stdout",
     "output_type": "stream",
     "text": [
      "+--------+-------------------+-------+-------+--------------+-----------+----------+----------+--------------------+\n",
      "|SearchID|         SearchDate|   IPID| UserID|IsUserLoggedOn|SearchQuery|LocationID|CategoryID|        SearchParams|\n",
      "+--------+-------------------+-------+-------+--------------+-----------+----------+----------+--------------------+\n",
      "|       1|2015-05-18 19:54:32|1717090|3640266|             0|       null|      1729|         5|                null|\n",
      "|       2|2015-05-12 14:21:28|1731568| 769304|             0|       null|       697|        50|                null|\n",
      "|       3|2015-05-12 07:09:42| 793143| 640089|             0|       null|      1261|        12|                null|\n",
      "|       4|2015-05-10 18:11:01| 898705|3573776|             0|       null|      3960|        22|{83:'Обувь', 175:...|\n",
      "|       5|2015-04-25 13:04:09|2009707| 320674|             0|       null|       547|         1|                null|\n",
      "+--------+-------------------+-------+-------+--------------+-----------+----------+----------+--------------------+\n",
      "only showing top 5 rows\n",
      "\n"
     ]
    }
   ],
   "source": [
    "# read the search_info data\n",
    "data_search_info = spark.read.format('csv').option('header', 'true').option('inferSchema', 'true').option(\"delimiter\", \"\\t\").load('s3://bigdatateaching/project-data/search_info.txt')\n",
    "data_search_info.show(5)"
   ]
  },
  {
   "cell_type": "code",
   "execution_count": 17,
   "id": "6df77363-cbd1-4e65-b128-f5381a45b41c",
   "metadata": {},
   "outputs": [
    {
     "name": "stdout",
     "output_type": "stream",
     "text": [
      "+------+-----------+-------------+------------+-----------------+\n",
      "|UserID|UserAgentID|UserAgentOSID|UserDeviceID|UserAgentFamilyID|\n",
      "+------+-----------+-------------+------------+-----------------+\n",
      "|     1|      44073|           30|        2019|                9|\n",
      "|     2|      12505|           20|        2014|               85|\n",
      "|     3|      24256|           20|        2014|               64|\n",
      "|     4|      57133|           20|        2014|               25|\n",
      "|     5|      57133|           20|        2014|               25|\n",
      "+------+-----------+-------------+------------+-----------------+\n",
      "only showing top 5 rows\n",
      "\n"
     ]
    }
   ],
   "source": [
    "# read the user_info data\n",
    "data_user_info = spark.read.format('csv').option('header', 'true').option('inferSchema', 'true').option(\"delimiter\", \"\\t\").load('s3://bigdatateaching/project-data/user_info.txt')\n",
    "data_user_info.show(5)"
   ]
  },
  {
   "cell_type": "markdown",
   "id": "62e35c4c-500c-4b2a-988b-f6282594dbab",
   "metadata": {},
   "source": [
    "### Exploratory Analysis\n",
    "\n",
    "First of all, let's explore the ads information."
   ]
  },
  {
   "cell_type": "code",
   "execution_count": 9,
   "id": "893f19f6-4b5f-4b7d-a737-7b10231ce6c9",
   "metadata": {},
   "outputs": [
    {
     "name": "stdout",
     "output_type": "stream",
     "text": [
      "+-------+--------------------+\n",
      "|summary|               Price|\n",
      "+-------+--------------------+\n",
      "|  count|            36892885|\n",
      "|   mean|   4651622.646353355|\n",
      "| stddev|1.3329100754011939E9|\n",
      "|    min|                 0.0|\n",
      "|    max|    9.99999999999E11|\n",
      "+-------+--------------------+\n",
      "\n"
     ]
    }
   ],
   "source": [
    "# explore the ad_info dataset\n",
    "data_ad.describe(\"Price\").show()"
   ]
  },
  {
   "cell_type": "code",
   "execution_count": 3,
   "id": "75f59052-7fb0-4776-91a9-ff645cfbfec5",
   "metadata": {},
   "outputs": [],
   "source": [
    "# convert the data_ad into table\n",
    "data_ad.createOrReplaceTempView('ad_tbl')"
   ]
  },
  {
   "cell_type": "code",
   "execution_count": 4,
   "id": "f9447742-4e36-4a8e-a895-50e8cc4aad3d",
   "metadata": {},
   "outputs": [],
   "source": [
    "# calculate the average price of ads for different categories\n",
    "df_ad = spark.sql('''Select CategoryID,\n",
    "                            avg(Price) \n",
    "                     from ad_tbl\n",
    "                     group by CategoryID\n",
    "                     order by avg(Price) asc''')\n",
    "\n",
    "# drop NA values\n",
    "df_ad = df_ad.na.drop()"
   ]
  },
  {
   "cell_type": "code",
   "execution_count": 30,
   "id": "8a2d4984-b56f-4880-ba8e-f2c7e9f928a4",
   "metadata": {
    "tags": []
   },
   "outputs": [
    {
     "name": "stdout",
     "output_type": "stream",
     "text": [
      "    CategoryID    avg(Price)\n",
      "0            8  3.328611e+00\n",
      "1           52  2.410136e+03\n",
      "2           51  5.037839e+03\n",
      "3           15  2.421866e+04\n",
      "4           16  2.853054e+04\n",
      "5           29  2.014561e+05\n",
      "6           44  4.152193e+05\n",
      "7            5  4.447593e+05\n",
      "8           60  5.179633e+05\n",
      "9           11  6.462951e+05\n",
      "10          47  8.396764e+05\n",
      "11          35  8.847366e+05\n",
      "12          22  9.351480e+05\n",
      "13          34  1.215131e+06\n",
      "14          38  1.254696e+06\n",
      "15          57  1.434677e+06\n",
      "16           2  1.546977e+06\n",
      "17          13  1.556002e+06\n",
      "18           9  1.572197e+06\n",
      "19          53  1.577388e+06\n",
      "20          36  1.681119e+06\n",
      "21          27  1.714443e+06\n",
      "22          46  1.802495e+06\n",
      "23           4  1.938246e+06\n",
      "24          26  2.583613e+06\n",
      "25          25  2.799462e+06\n",
      "26           3  2.965065e+06\n",
      "27          50  3.662135e+06\n",
      "28          14  3.844226e+06\n",
      "29          37  4.483698e+06\n",
      "30          48  4.502134e+06\n",
      "31           6  4.736747e+06\n",
      "32          54  4.905650e+06\n",
      "33          30  4.938467e+06\n",
      "34          43  5.030751e+06\n",
      "35          59  6.399080e+06\n",
      "36          23  7.214424e+06\n",
      "37          42  7.475861e+06\n",
      "38          45  7.909998e+06\n",
      "39          41  8.048728e+06\n",
      "40          18  1.095418e+07\n",
      "41          10  1.119382e+07\n",
      "42      250006  1.120987e+07\n",
      "43      500001  1.170031e+07\n",
      "44      250005  1.287265e+07\n",
      "45          33  1.542116e+07\n",
      "46          20  1.636411e+07\n",
      "47          31  1.793289e+07\n",
      "48      250001  3.468152e+07\n",
      "49      250004  3.482269e+07\n",
      "50          32  3.503177e+07\n",
      "51          19  3.755275e+07\n"
     ]
    }
   ],
   "source": [
    "# convert into 'pandas.core.frame.DataFrame'\n",
    "pd_ad = df_ad.toPandas()\n",
    "print(pd_ad)"
   ]
  },
  {
   "cell_type": "code",
   "execution_count": 8,
   "id": "9aa81fda-b268-43d2-bbe0-6d40d0943ec0",
   "metadata": {
    "tags": []
   },
   "outputs": [
    {
     "data": {
      "image/png": "[encoded data removed]",
      "text/plain": [
       "<Figure size 640x480 with 1 Axes>"
      ]
     },
     "metadata": {},
     "output_type": "display_data"
    }
   ],
   "source": [
    "# visualize the result\n",
    "import matplotlib.pyplot as plt\n",
    "pd_ad.plot(x='CategoryID', y='avg(Price)', kind='bar', rot=90)\n",
    "plt.title('Average Price of Ads for Different Categories')\n",
    "plt.tick_params(labelsize=8)\n",
    "plt.show()"
   ]
  },
  {
   "cell_type": "code",
   "execution_count": 9,
   "id": "098c3a27-cb90-41a3-bb86-ae2900f38573",
   "metadata": {},
   "outputs": [
    {
     "name": "stdout",
     "output_type": "stream",
     "text": [
      "+----------+-----------+\n",
      "|CategoryID|count(AdID)|\n",
      "+----------+-----------+\n",
      "|         8|      22024|\n",
      "|        19|      32710|\n",
      "|        15|      48625|\n",
      "|        23|      67657|\n",
      "|        20|      67990|\n",
      "+----------+-----------+\n",
      "only showing top 5 rows\n",
      "\n"
     ]
    }
   ],
   "source": [
    "# count the number of ads of different categories\n",
    "df_ad_cat = spark.sql('''Select CategoryID,\n",
    "                                count(AdID) \n",
    "                         from ad_tbl\n",
    "                         group by CategoryID\n",
    "                         order by count(AdID) asc''')\n",
    "df_ad_cat = df_ad_cat.na.drop()\n",
    "df_ad_cat.show(5)"
   ]
  },
  {
   "cell_type": "code",
   "execution_count": 10,
   "id": "3a3d3d7f-cbaf-44d2-b409-ef2e294158e6",
   "metadata": {},
   "outputs": [
    {
     "data": {
      "image/png": "[encoded data removed]",
      "text/plain": [
       "<Figure size 640x480 with 1 Axes>"
      ]
     },
     "metadata": {},
     "output_type": "display_data"
    }
   ],
   "source": [
    "pd_ad_cat = df_ad_cat.toPandas()\n",
    "pd_ad_cat.plot(x='CategoryID', y='count(AdID)', kind='bar', rot=90)\n",
    "plt.title('The Number of Ads of Different Categories')\n",
    "plt.tick_params(labelsize=8)\n",
    "plt.show()"
   ]
  },
  {
   "cell_type": "markdown",
   "id": "36e4f5d7-4e42-432b-afae-4c613161a0d1",
   "metadata": {},
   "source": [
    "As LocationID is NULL for contextual ads, we can regard it as a feature for non-contextual ads. So in the next cell, we will explore the average price and number of non-contextual ads targeting at different locations."
   ]
  },
  {
   "cell_type": "code",
   "execution_count": 4,
   "id": "fc21ac7b-af17-4cf3-b517-746b898c1364",
   "metadata": {},
   "outputs": [],
   "source": [
    "# for non-contextual ads\n",
    "# calculate the average price of ads for different locations\n",
    "df_ad_price = spark.sql('''Select LocationID,\n",
    "                                  avg(Price) \n",
    "                           from ad_tbl\n",
    "                           group by LocationID\n",
    "                           order by avg(Price) asc''')\n",
    "df_ad_price = df_ad_price.na.drop()"
   ]
  },
  {
   "cell_type": "code",
   "execution_count": 17,
   "id": "61bd4b6d-ab8e-4cb9-9abd-6c12408e2cb4",
   "metadata": {},
   "outputs": [
    {
     "data": {
      "image/png": "[encoded data removed]",
      "text/plain": [
       "<Figure size 640x480 with 1 Axes>"
      ]
     },
     "metadata": {},
     "output_type": "display_data"
    }
   ],
   "source": [
    "pd_ad_price = df_ad_price.toPandas()\n",
    "pd_ad_price.plot(x='LocationID', y='avg(Price)', kind='line', rot=90)\n",
    "plt.title('Average Price of Ads of Different Locations')\n",
    "plt.tick_params(labelsize=8)\n",
    "plt.show()"
   ]
  },
  {
   "cell_type": "code",
   "execution_count": 10,
   "id": "54256444-d58c-4701-989b-a8126bd09a6e",
   "metadata": {},
   "outputs": [
    {
     "name": "stdout",
     "output_type": "stream",
     "text": [
      "+----------+-----------+\n",
      "|LocationID|count(AdID)|\n",
      "+----------+-----------+\n",
      "|      3379|          1|\n",
      "|      3582|          1|\n",
      "|      3548|          1|\n",
      "|      4000|          1|\n",
      "|      1064|          1|\n",
      "+----------+-----------+\n",
      "only showing top 5 rows\n",
      "\n"
     ]
    }
   ],
   "source": [
    "# count the number of ads targeting at different locations\n",
    "df_ad_location = spark.sql('''Select LocationID,\n",
    "                                     count(AdID) \n",
    "                              from ad_tbl\n",
    "                              group by LocationID\n",
    "                              order by count(AdID) asc''')\n",
    "df_ad_location = df_ad_location.na.drop()\n",
    "df_ad_location.show(5)"
   ]
  },
  {
   "cell_type": "code",
   "execution_count": 29,
   "id": "dbbfdfbb-a985-4061-8c21-1160861d60d6",
   "metadata": {},
   "outputs": [
    {
     "name": "stdout",
     "output_type": "stream",
     "text": [
      "      LocationID  count(AdID)\n",
      "0           1064            1\n",
      "1           3582            1\n",
      "2           1952            1\n",
      "3           1750            1\n",
      "4           1316            1\n",
      "...          ...          ...\n",
      "3611         992       731270\n",
      "3612        1261       843971\n",
      "3613        2840       944370\n",
      "3614        3953      3642815\n",
      "3615        3960      6784338\n",
      "\n",
      "[3616 rows x 2 columns]\n"
     ]
    }
   ],
   "source": [
    "pd_ad_location = df_ad_location.toPandas()\n",
    "print(pd_ad_location)"
   ]
  },
  {
   "cell_type": "markdown",
   "id": "756e8a18-1cf7-4882-a79d-fbfb16a3d632",
   "metadata": {},
   "source": [
    "After exploring the ads information, we will then figure out the users' features."
   ]
  },
  {
   "cell_type": "code",
   "execution_count": 18,
   "id": "9c45e6d2-35e8-4094-a445-7f5493417340",
   "metadata": {},
   "outputs": [],
   "source": [
    "# convert the user_info into table\n",
    "# figure out which brower family is mostly used\n",
    "data_user_info.createOrReplaceTempView('user_info_tbl')\n",
    "df_user_info = spark.sql('''Select UserAgentFamilyID,\n",
    "                                   count(UserID)\n",
    "                            from user_info_tbl\n",
    "                            group by UserAgentFamilyID\n",
    "                            order by count(UserID)''')\n",
    "df_user_info = df_user_info.na.drop()"
   ]
  },
  {
   "cell_type": "code",
   "execution_count": 28,
   "id": "d7f8fe6d-e28b-4212-b0b4-6d2923a3383f",
   "metadata": {},
   "outputs": [
    {
     "name": "stdout",
     "output_type": "stream",
     "text": [
      "    UserAgentFamilyID  count(UserID)\n",
      "0                  76              1\n",
      "1                  20              1\n",
      "2                   5              1\n",
      "3                  88              1\n",
      "4                   8              1\n",
      "..                ...            ...\n",
      "84                 15         318296\n",
      "85                 85         515315\n",
      "86                 62         535675\n",
      "87                 64         693435\n",
      "88                 25        1718615\n",
      "\n",
      "[89 rows x 2 columns]\n"
     ]
    }
   ],
   "source": [
    "pd_user_info = df_user_info.toPandas()\n",
    "print(pd_user_info)"
   ]
  },
  {
   "cell_type": "code",
   "execution_count": 21,
   "id": "a098ba28-25aa-4930-8b4a-d24509dfea6f",
   "metadata": {},
   "outputs": [
    {
     "data": {
      "image/png": "[encoded data removed]",
      "text/plain": [
       "<Figure size 640x480 with 1 Axes>"
      ]
     },
     "metadata": {},
     "output_type": "display_data"
    }
   ],
   "source": [
    "pd_user_info.plot(x='UserAgentFamilyID', y='count(UserID)', kind='bar', rot=90)\n",
    "plt.title('browser family')\n",
    "plt.tick_params(labelsize=5)\n",
    "plt.show()"
   ]
  },
  {
   "cell_type": "code",
   "execution_count": 22,
   "id": "d6281f12-3c34-46fa-883e-590deca0664d",
   "metadata": {},
   "outputs": [],
   "source": [
    "# figure out which device type is mostly used\n",
    "df_user_device = spark.sql('''Select UserDeviceID,\n",
    "                                   count(UserID)\n",
    "                            from user_info_tbl\n",
    "                            group by UserDeviceID\n",
    "                            order by count(UserID)''')\n",
    "df_user_device = df_user_device.na.drop()"
   ]
  },
  {
   "cell_type": "code",
   "execution_count": 25,
   "id": "788c4713-a039-4fef-a62a-bfec3489f0f9",
   "metadata": {},
   "outputs": [
    {
     "name": "stdout",
     "output_type": "stream",
     "text": [
      "      UserDeviceID  count(UserID)\n",
      "0             3698              1\n",
      "1              858              1\n",
      "2             1483              1\n",
      "3             1990              1\n",
      "4             1721              1\n",
      "...            ...            ...\n",
      "4195          3296          12818\n",
      "4196          2296          12904\n",
      "4197          1707          14585\n",
      "4198          2019         241522\n",
      "4199          2014        3743278\n",
      "\n",
      "[4200 rows x 2 columns]\n"
     ]
    }
   ],
   "source": [
    "pd_user_device = df_user_device.toPandas()\n",
    "print(pd_user_device)"
   ]
  },
  {
   "cell_type": "markdown",
   "id": "7f17afc0-4fc0-4546-9fbc-c0b1673373d9",
   "metadata": {},
   "source": [
    "### Build the model\n",
    "\n",
    "First of all, let's prepare the data for the model.\n",
    "\n",
    "For contextual ads, search_click and ad_info can be used, so we can join these two datasets."
   ]
  },
  {
   "cell_type": "code",
   "execution_count": 32,
   "id": "6e1579f6-5470-4a8e-abdf-1c8079d96bd3",
   "metadata": {},
   "outputs": [],
   "source": [
    "# prepare data for the model\n",
    "# convert the search_click into table\n",
    "data_search_click.createOrReplaceTempView('search_click_tbl') \n",
    "# join the datasets by 'left join' syntax\n",
    "Merged_contextual = spark.sql('''select distinct search_click_tbl.AdID, \n",
    "                                        search_click_tbl.Position, \n",
    "                                        search_click_tbl.HistCTR, \n",
    "                                        (case when IsClick = 0 then \"No\" else \"YES\" end) as IsClick_class,  \n",
    "                                        ad_tbl.CategoryID, \n",
    "                                        ad_tbl.Price,\n",
    "                                        ad_tbl.Title\n",
    "                                        from search_click_tbl left join ad_tbl \n",
    "                                        on search_click_tbl.AdID = ad_tbl.AdID''')"
   ]
  },
  {
   "cell_type": "code",
   "execution_count": 33,
   "id": "20a00d90-24f5-4f32-ab71-b31025dc2bda",
   "metadata": {},
   "outputs": [],
   "source": [
    "# drop the NA values\n",
    "Merged_contextual = Merged_contextual.na.drop()\n",
    "Merged_contextual.show(10)"
   ]
  },
  {
   "cell_type": "code",
   "execution_count": 9,
   "id": "c17bf7fc-d8c8-4390-bd7b-50975e2fd1f3",
   "metadata": {},
   "outputs": [
    {
     "name": "stdout",
     "output_type": "stream",
     "text": [
      "root\n",
      " |-- AdID: integer (nullable = true)\n",
      " |-- Position: integer (nullable = true)\n",
      " |-- HistCTR: double (nullable = true)\n",
      " |-- IsClick_class: string (nullable = false)\n",
      " |-- CategoryID: integer (nullable = true)\n",
      " |-- Price: double (nullable = true)\n",
      " |-- Title: string (nullable = true)\n",
      "\n"
     ]
    }
   ],
   "source": [
    "Merged_contextual.printSchema()"
   ]
  },
  {
   "cell_type": "code",
   "execution_count": 34,
   "id": "b5b54897-7a04-4abf-ae1e-b2d0eb4af218",
   "metadata": {},
   "outputs": [],
   "source": [
    "# use transformers and encoders to perform feature engineering\n",
    "from pyspark.ml.feature import StringIndexer, OneHotEncoder, VectorAssembler, Normalizer\n",
    "indexer = StringIndexer(inputCol = 'Title', outputCol = 'Title_si')\n",
    "\n",
    "encoder = OneHotEncoder(inputCol = 'Title_si', outputCol = 'Title_si_Vec')\n",
    "\n",
    "numericCols = ['AdID', 'Position', 'HistCTR', 'CategoryID', 'Price',]\n",
    "assemblerInputs = ['Title_si_Vec'] + numericCols\n",
    "vectorAssembler = VectorAssembler(inputCols=assemblerInputs, outputCol=\"features\")\n",
    "\n",
    "label_stringIdx = StringIndexer(inputCol = 'IsClick_class', outputCol = 'label')\n",
    "\n",
    "normalizer = Normalizer(inputCol = 'features', outputCol = 'features_norm', p=1.0)  # Manhattan Distance_"
   ]
  },
  {
   "cell_type": "code",
   "execution_count": 35,
   "id": "1900251a-7887-48bc-a202-3515610c9041",
   "metadata": {},
   "outputs": [],
   "source": [
    "# build LogisticRegression model\n",
    "from pyspark.ml.classification import LogisticRegression\n",
    "lr = LogisticRegression(featuresCol = 'features_norm', labelCol = 'label', maxIter=5)"
   ]
  },
  {
   "cell_type": "code",
   "execution_count": 36,
   "id": "a346e5c3-68a0-410d-8f7d-9e8d5ed9b196",
   "metadata": {},
   "outputs": [],
   "source": [
    "# create a pipeline\n",
    "from pyspark.ml import Pipeline\n",
    "pipeline = Pipeline(stages = [indexer, encoder, vectorAssembler, label_stringIdx, normalizer, lr])"
   ]
  },
  {
   "cell_type": "code",
   "execution_count": 37,
   "id": "1155a513-a659-43d0-bad7-805dcd1bca55",
   "metadata": {},
   "outputs": [
    {
     "name": "stdout",
     "output_type": "stream",
     "text": [
      "Training Dataset Count: 8921189\n",
      "Test Dataset Count: 2230392\n"
     ]
    }
   ],
   "source": [
    "# split the dataset into training and testing\n",
    "train, test = Merged_contextual.randomSplit([0.8, 0.2], seed = 2021)\n",
    "print(\"Training Dataset Count: \" + str(train.count()))\n",
    "print(\"Test Dataset Count: \" + str(test.count()))"
   ]
  },
  {
   "cell_type": "code",
   "execution_count": 38,
   "id": "be869ff6-e8c1-4522-8917-2a83ca405fbc",
   "metadata": {},
   "outputs": [],
   "source": [
    "# train the LogisticRegression model using the pipeline\n",
    "pipelineModel = pipeline.fit(train)"
   ]
  },
  {
   "cell_type": "code",
   "execution_count": 55,
   "id": "b728ccaa-43c8-4cc5-838e-c44e3d35227c",
   "metadata": {},
   "outputs": [
    {
     "data": {
      "image/png": "[encoded data removed]",
      "text/plain": [
       "<Figure size 640x480 with 1 Axes>"
      ]
     },
     "metadata": {},
     "output_type": "display_data"
    }
   ],
   "source": [
    "# obtain the coefficients by using LogisticRegressionModel’s attributes\n",
    "import numpy as np\n",
    "lrm = pipelineModel.stages[-1]\n",
    "beta = np.sort(lrm.coefficients)\n",
    "plt.plot(beta)\n",
    "plt.ylabel('Beta Coefficients')\n",
    "plt.show()"
   ]
  },
  {
   "cell_type": "code",
   "execution_count": 58,
   "id": "8ca6173f-8b66-4eba-84de-426e2a7a030e",
   "metadata": {},
   "outputs": [
    {
     "name": "stdout",
     "output_type": "stream",
     "text": [
      "Intercept: -2.650051457166879\n"
     ]
    }
   ],
   "source": [
    "# obtain the intercept\n",
    "print(\"Intercept: \" + str(lrm.intercept))"
   ]
  },
  {
   "cell_type": "code",
   "execution_count": 13,
   "id": "12f4a6ff-abff-4fdc-9f5a-85e563363cde",
   "metadata": {},
   "outputs": [
    {
     "name": "stdout",
     "output_type": "stream",
     "text": [
      "+-----+--------------------+--------------------+----------+--------------------+\n",
      "|label|       features_norm|       rawPrediction|prediction|         probability|\n",
      "+-----+--------------------+--------------------+----------+--------------------+\n",
      "|  0.0|(21989,[10169,219...|[3.85255807854624...|       0.0|[0.97921578196723...|\n",
      "|  0.0|(21989,[10169,219...|[3.84464693586389...|       0.0|[0.97905416065086...|\n",
      "|  0.0|(21989,[10169,219...|[3.82895087750871...|       0.0|[0.97872984790309...|\n",
      "|  0.0|(21989,[4680,2198...|[3.58842330775148...|       0.0|[0.97310164232421...|\n",
      "|  0.0|(21989,[4680,2198...|[3.58840747515217...|       0.0|[0.97310122790542...|\n",
      "+-----+--------------------+--------------------+----------+--------------------+\n",
      "only showing top 5 rows\n",
      "\n"
     ]
    }
   ],
   "source": [
    "# make prediction on the test set\n",
    "prediction = pipelineModel.transform(test)\n",
    "prediction.select('label', 'features_norm', 'rawPrediction', 'prediction', 'probability').show(5)"
   ]
  },
  {
   "cell_type": "markdown",
   "id": "22e49c6f-8e38-40b4-baca-509f9c051745",
   "metadata": {},
   "source": [
    "### Evaluation"
   ]
  },
  {
   "cell_type": "code",
   "execution_count": 57,
   "id": "4543e554-7627-45f8-a0e1-4b9bb12eb4ff",
   "metadata": {},
   "outputs": [
    {
     "name": "stderr",
     "output_type": "stream",
     "text": [
      "/home/hadoop/miniconda/lib/python3.7/site-packages/pyarrow/util.py:43: FutureWarning: pyarrow.open_stream is deprecated as of 0.17.0, please use pyarrow.ipc.open_stream instead.\n",
      "  warnings.warn(msg, FutureWarning)\n"
     ]
    },
    {
     "data": {
      "image/png": "[encoded data removed]",
      "text/plain": [
       "<Figure size 640x480 with 1 Axes>"
      ]
     },
     "metadata": {},
     "output_type": "display_data"
    },
    {
     "name": "stdout",
     "output_type": "stream",
     "text": [
      "Training set areaUnderROC: 0.7237880197289935\n"
     ]
    }
   ],
   "source": [
    "trainingSummary = lrm.summary\n",
    "roc = trainingSummary.roc.toPandas()\n",
    "plt.plot(roc['FPR'],roc['TPR'])\n",
    "plt.ylabel('False Positive Rate')\n",
    "plt.xlabel('True Positive Rate')\n",
    "plt.title('ROC Curve')\n",
    "plt.show()\n",
    "print('Training set areaUnderROC: ' + str(trainingSummary.areaUnderROC))"
   ]
  },
  {
   "cell_type": "code",
   "execution_count": 59,
   "id": "9ca09319-e9e7-4856-a38c-50106549efee",
   "metadata": {},
   "outputs": [],
   "source": [
    "# save the model to S3 bucket.\n",
    "pipelineModel.save(\"s3://anly502-spring2021-yl/big_project/\")"
   ]
  },
  {
   "cell_type": "code",
   "execution_count": 60,
   "id": "eea526af-bb14-47fa-b33c-e2a2ba118038",
   "metadata": {},
   "outputs": [],
   "source": [
    "spark.stop()"
   ]
  },
  {
   "cell_type": "code",
   "execution_count": null,
   "id": "18fed6ab-96f4-4545-8ca5-df0eaa1f410c",
   "metadata": {},
   "outputs": [],
   "source": []
  }
 ],
 "metadata": {
  "kernelspec": {
   "display_name": "Python 3",
   "language": "python",
   "name": "python3"
  },
  "language_info": {
   "codemirror_mode": {
    "name": "ipython",
    "version": 3
   },
   "file_extension": ".py",
   "mimetype": "text/x-python",
   "name": "python",
   "nbconvert_exporter": "python",
   "pygments_lexer": "ipython3",
   "version": "3.7.10"
  }
 },
 "nbformat": 4,
 "nbformat_minor": 5
}
